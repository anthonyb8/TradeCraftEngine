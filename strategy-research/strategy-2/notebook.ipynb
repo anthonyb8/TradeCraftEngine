{
 "cells": [
  {
   "cell_type": "markdown",
   "metadata": {},
   "source": [
    "# Trading Strategy Reconstruction: <Strategy Name>\n"
   ]
  },
  {
   "cell_type": "markdown",
   "metadata": {},
   "source": [
    "## Introduction\n",
    "Briefly describe the trading strategy. Mention the academic paper it comes from, the authors, and the main premise of the strategy.\n"
   ]
  },
  {
   "cell_type": "markdown",
   "metadata": {},
   "source": [
    "## Background"
   ]
  },
  {
   "cell_type": "markdown",
   "metadata": {},
   "source": [
    "#### Theory\n",
    "Provide a summary or key points from the academic paper. This might include:\n",
    "- Assumptions made in the paper.\n",
    "- The theoretical foundation of the strategy.\n",
    "- Any supporting or opposing views from other academics or practitioners."
   ]
  },
  {
   "cell_type": "markdown",
   "metadata": {},
   "source": [
    "#### Key Concepts\n",
    "Present and explain key formulas or concepts from the paper. This might include algorithm pseudocode, mathematical formulas, or other theoretical concepts vital to understanding the strategy."
   ]
  },
  {
   "cell_type": "markdown",
   "metadata": {},
   "source": [
    "## Data Acquisition and Cleaning"
   ]
  },
  {
   "cell_type": "markdown",
   "metadata": {},
   "source": [
    "#### Data Sources\n",
    "Discuss the data sources used, e.g., Yahoo Finance, proprietary databases, etc."
   ]
  },
  {
   "cell_type": "markdown",
   "metadata": {},
   "source": [
    "#### Data Retrieval\n",
    "Include code cells that fetch the data. If you're using `yfinance`, show how you're fetching the data."
   ]
  },
  {
   "cell_type": "code",
   "execution_count": 11,
   "metadata": {},
   "outputs": [
    {
     "name": "stderr",
     "output_type": "stream",
     "text": [
      "/opt/anaconda3/lib/python3.8/site-packages/statsmodels/tsa/base/tsa_model.py:7: FutureWarning: pandas.Int64Index is deprecated and will be removed from pandas in a future version. Use pandas.Index with the appropriate dtype instead.\n",
      "  from pandas import (to_datetime, Int64Index, DatetimeIndex, Period,\n",
      "/opt/anaconda3/lib/python3.8/site-packages/statsmodels/tsa/base/tsa_model.py:7: FutureWarning: pandas.Float64Index is deprecated and will be removed from pandas in a future version. Use pandas.Index with the appropriate dtype instead.\n",
      "  from pandas import (to_datetime, Int64Index, DatetimeIndex, Period,\n"
     ]
    }
   ],
   "source": [
    "# Step 1: Install necessary packages\n",
    "import yfinance as yf\n",
    "import pandas as pd\n",
    "import numpy as np\n",
    "import matplotlib.pyplot as plt\n",
    "from statsmodels.tsa.stattools import adfuller\n",
    "from statsmodels.tsa.seasonal import seasonal_decompose\n",
    "from statsmodels.graphics.tsaplots import plot_acf"
   ]
  },
  {
   "cell_type": "code",
   "execution_count": 20,
   "metadata": {},
   "outputs": [
    {
     "name": "stdout",
     "output_type": "stream",
     "text": [
      "[*********************100%***********************]  2 of 2 completed\n",
      "\n",
      "No null values in dataframe.\n",
      "All data series have the same length: 2513\n",
      "             NG=F                                              CL=F  \\\n",
      "             Open   High    Low  Close Adj_Close  Volume       Open   \n",
      "Date                                                                  \n",
      "2010-01-04  5.705  5.894  5.705  5.884     5.884   78858  79.629997   \n",
      "2010-01-05  5.837  5.858  5.615  5.637     5.637   99492  81.629997   \n",
      "2010-01-06  5.690  6.075  5.650  6.009     6.009  140611  81.430000   \n",
      "2010-01-07  6.033  6.108  5.763  5.806     5.806  135113  83.199997   \n",
      "2010-01-08  5.827  5.853  5.621  5.749     5.749  101153  82.650002   \n",
      "...           ...    ...    ...    ...       ...     ...        ...   \n",
      "2019-12-23  2.254  2.269  2.192  2.214     2.214  127886  60.410000   \n",
      "2019-12-24  2.202  2.223  2.162  2.172     2.172   49762  60.630001   \n",
      "2019-12-26  2.184  2.297  2.184  2.294     2.294   53813  61.200001   \n",
      "2019-12-27  2.272  2.286  2.138  2.158     2.158  223903  61.730000   \n",
      "2019-12-30  2.247  2.258  2.182  2.186     2.186  124329  61.709999   \n",
      "\n",
      "                                                                \n",
      "                 High        Low      Close  Adj_Close  Volume  \n",
      "Date                                                            \n",
      "2010-01-04  81.680000  79.629997  81.510002  81.510002  263542  \n",
      "2010-01-05  82.000000  80.949997  81.769997  81.769997  258887  \n",
      "2010-01-06  83.519997  80.849998  83.180000  83.180000  370059  \n",
      "2010-01-07  83.360001  82.260002  82.660004  82.660004  246632  \n",
      "2010-01-08  83.470001  81.800003  82.750000  82.750000  310377  \n",
      "...               ...        ...        ...        ...     ...  \n",
      "2019-12-23  60.770000  60.099998  60.520000  60.520000  314711  \n",
      "2019-12-24  61.160000  60.470001  61.110001  61.110001  204535  \n",
      "2019-12-26  61.830002  61.060001  61.680000  61.680000  265091  \n",
      "2019-12-27  61.970001  61.240002  61.720001  61.720001  351899  \n",
      "2019-12-30  62.340000  61.090000  61.680000  61.680000  427149  \n",
      "\n",
      "[2513 rows x 12 columns]\n"
     ]
    }
   ],
   "source": [
    "def download_data(tickers, start_date, end_date):\n",
    "    try:\n",
    "        # Download the historical data using the yfinance library\n",
    "        df = yf.download(tickers, start=start_date, end=end_date, group_by='tickers')\n",
    "        # Rename the 'Adj Close' column to 'Adj_Close'\n",
    "        df.rename(columns={\"Adj Close\": \"Adj_Close\"}, inplace=True)\n",
    "        return df\n",
    "    except Exception as e:\n",
    "        print(f\"Error occurred while trying to download data: {e}\")\n",
    "        return None\n",
    "\n",
    "futures_codes = [\"CL=F\", \"NG=F\"]\n",
    "start_date = \"2010-01-01\"\n",
    "end_date = \"2019-12-31\"\n",
    "\n",
    "historical_data = download_data(futures_codes, start_date, end_date)\n",
    "\n",
    "def null_check_and_clean(df):\n",
    "    if df.isnull().sum().sum() > 0:\n",
    "        null_columns = df.columns[df.isnull().any()]\n",
    "        print(\"Null value count by column:\")\n",
    "        print(df[null_columns].isnull().sum())\n",
    "        print(\"\\nRows with null values:\")\n",
    "        print(df[df.isnull().any(axis=1)][null_columns])\n",
    "        df.dropna(inplace=True)\n",
    "        print(\"\\nNull values dropped.\")\n",
    "    else:\n",
    "        print(\"\\nNo null values in dataframe.\")\n",
    "    return df\n",
    "\n",
    "def check_data_length(df):\n",
    "    lengths = {ticker: len(data) for ticker, data in df.items()}\n",
    "    length_set = set(lengths.values())\n",
    "    if len(length_set) > 1:\n",
    "        print(\"Data lengths are not equal!\")\n",
    "        for ticker, length in lengths.items():\n",
    "            print(f\"Length of data for {ticker}: {length}\")\n",
    "    else:\n",
    "        print(f\"All data series have the same length: {next(iter(length_set))}\")\n",
    "\n",
    "historical_data = null_check_and_clean(historical_data)\n",
    "check_data_length(historical_data)\n",
    "\n",
    "def create_df(df):\n",
    "    # Create a new dataframe with only close prices\n",
    "    close_prices = pd.DataFrame()\n",
    "    \n",
    "    # Check if the dataframe has a MultiIndex\n",
    "    if isinstance(df.columns, pd.MultiIndex):\n",
    "        for ticker in df.columns.levels[0]:\n",
    "            close_prices[ticker] = df[ticker]['Close']\n",
    "    else:\n",
    "        # Ensure 'Close' column exists in the dataframe\n",
    "        if 'Close' in df.columns:\n",
    "            close_prices = df[['Close']]\n",
    "        else:\n",
    "            raise KeyError(\"The dataframe doesn't have a 'Close' column.\")\n",
    "    \n",
    "    return close_prices\n",
    "\n",
    "print(historical_data)\n",
    "close_prices =create_df(historical_data)\n"
   ]
  },
  {
   "cell_type": "code",
   "execution_count": 21,
   "metadata": {},
   "outputs": [
    {
     "name": "stdout",
     "output_type": "stream",
     "text": [
      "Date\n",
      "2010-01-04    81.510002\n",
      "2010-01-05    81.769997\n",
      "2010-01-06    83.180000\n",
      "2010-01-07    82.660004\n",
      "2010-01-08    82.750000\n",
      "                ...    \n",
      "2019-12-23    60.520000\n",
      "2019-12-24    61.110001\n",
      "2019-12-26    61.680000\n",
      "2019-12-27    61.720001\n",
      "2019-12-30    61.680000\n",
      "Name: CL=F, Length: 2513, dtype: float64\n",
      "Date\n",
      "2010-01-04    5.884\n",
      "2010-01-05    5.637\n",
      "2010-01-06    6.009\n",
      "2010-01-07    5.806\n",
      "2010-01-08    5.749\n",
      "              ...  \n",
      "2019-12-23    2.214\n",
      "2019-12-24    2.172\n",
      "2019-12-26    2.294\n",
      "2019-12-27    2.158\n",
      "2019-12-30    2.186\n",
      "Name: NG=F, Length: 2513, dtype: float64\n",
      "DatetimeIndex(['2010-01-04', '2010-01-05', '2010-01-06', '2010-01-07',\n",
      "               '2010-01-08', '2010-01-11', '2010-01-12', '2010-01-13',\n",
      "               '2010-01-14', '2010-01-15',\n",
      "               ...\n",
      "               '2019-12-16', '2019-12-17', '2019-12-18', '2019-12-19',\n",
      "               '2019-12-20', '2019-12-23', '2019-12-24', '2019-12-26',\n",
      "               '2019-12-27', '2019-12-30'],\n",
      "              dtype='datetime64[ns]', name='Date', length=2513, freq=None)\n"
     ]
    }
   ],
   "source": [
    "for ticker in futures_codes:\n",
    "    print(close_prices[ticker])\n",
    "\n",
    "print(close_prices.index)\n",
    "    "
   ]
  },
  {
   "cell_type": "code",
   "execution_count": 30,
   "metadata": {},
   "outputs": [
    {
     "data": {
      "image/png": "[encoded data removed]",
      "text/plain": [
       "<Figure size 432x288 with 1 Axes>"
      ]
     },
     "metadata": {
      "needs_background": "light"
     },
     "output_type": "display_data"
    },
    {
     "name": "stdout",
     "output_type": "stream",
     "text": [
      "ADF Statistic: -1.4536854015689489\n",
      "p-value: 0.5562855865601427\n",
      "Data is not stationary\n"
     ]
    },
    {
     "data": {
      "text/plain": [
       "<Figure size 2160x2160 with 0 Axes>"
      ]
     },
     "metadata": {},
     "output_type": "display_data"
    },
    {
     "data": {
      "image/png": "[encoded data removed]",
      "text/plain": [
       "<Figure size 432x288 with 4 Axes>"
      ]
     },
     "metadata": {},
     "output_type": "display_data"
    },
    {
     "data": {
      "text/plain": [
       "<Figure size 864x432 with 0 Axes>"
      ]
     },
     "metadata": {},
     "output_type": "display_data"
    },
    {
     "data": {
      "image/png": "[encoded data removed]",
      "text/plain": [
       "<Figure size 432x288 with 1 Axes>"
      ]
     },
     "metadata": {
      "needs_background": "dark"
     },
     "output_type": "display_data"
    }
   ],
   "source": [
    "\n",
    "\n",
    "# Assuming `prices` is your time series of historical price data\n",
    "# For the purpose of this example, we'll generate some synthetic data\n",
    "np.random.seed(42)\n",
    "dates = close_prices.index\n",
    "prices = close_prices['CL=F']\n",
    "prices_series = pd.Series(prices, index=dates)\n",
    "\n",
    "# 1. Plot the data\n",
    "prices_series.plot(title='Historical Prices')\n",
    "plt.show()\n",
    "\n",
    "# 2. Test for stationarity using ADF\n",
    "result = adfuller(prices)\n",
    "print('ADF Statistic:', result[0])\n",
    "print('p-value:', result[1])\n",
    "\n",
    "# Interpretation\n",
    "if result[1] <= 0.05:\n",
    "    print(\"Data is stationary\")\n",
    "else:\n",
    "    print(\"Data is not stationary\")\n",
    "\n",
    "# 3. Decompose the series\n",
    "plt.figure(figsize=(30,30))\n",
    "decomposition = seasonal_decompose(prices_series, model='multiplicative', period=365)\n",
    "decomposition.plot()\n",
    "plt.xticks(color='white')\n",
    "plt.yticks(color='white')\n",
    "plt.xlabel('Date', color='white')\n",
    "plt.ylabel('Component Value', color='white')\n",
    "plt.show()\n",
    "\n",
    "# 4. ACF plot\n",
    "plt.figure(figsize=(12, 6))\n",
    "plot_acf(prices, lags=50)\n",
    "plt.xticks(color='white')\n",
    "plt.yticks(color='white')\n",
    "plt.xlabel('Lag', color='white')\n",
    "plt.ylabel('Autocorrelation', color='white')\n",
    "plt.show()\n"
   ]
  },
  {
   "cell_type": "code",
   "execution_count": 2,
   "metadata": {},
   "outputs": [
    {
     "name": "stdout",
     "output_type": "stream",
     "text": [
      "[*********************100%***********************]  4 of 4 completed\n",
      "[(0, 1, 8, 0), (2, 3, 3, 0)]\n"
     ]
    }
   ],
   "source": [
    "# Step 1: Install necessary packages\n",
    "import yfinance as yf\n",
    "import pandas as pd\n",
    "import numpy as np\n",
    "\n",
    "# Step 2: Load historical stock price data\n",
    "def load_data(tickers, start, end):\n",
    "    data = yf.download(tickers, start=start, end=end)\n",
    "    return data['Adj Close']\n",
    "\n",
    "tickers = ['AAPL', 'MSFT', 'GOOGL', 'AMZN'] # Example tickers, you can add more\n",
    "start_date = '2020-01-01'\n",
    "end_date = '2021-01-01'\n",
    "prices = load_data(tickers, start_date, end_date)\n",
    "\n",
    "# Step 3: Form pairs based on cumulative return over the formation period\n",
    "def form_pairs(data, formation_period=252):\n",
    "    returns = data.pct_change().dropna()\n",
    "    cumulative_returns = (returns + 1).cumprod()\n",
    "    distance_matrix = np.zeros((len(data.columns), len(data.columns)))\n",
    "    \n",
    "    for i in range(len(data.columns)):\n",
    "        for j in range(len(data.columns)):\n",
    "            if i != j:\n",
    "                distance_matrix[i, j] = np.sum((cumulative_returns.iloc[-formation_period:, i] - cumulative_returns.iloc[-formation_period:, j])**2)\n",
    "            else:\n",
    "                distance_matrix[i, j] = np.inf\n",
    "    pairs = []\n",
    "    for i in range(len(data.columns)):\n",
    "        j = np.argmin(distance_matrix[i, :])\n",
    "        if (j, i) not in pairs and (i, j) not in pairs:\n",
    "            pairs.append((i, j))\n",
    "    return pairs\n",
    "\n",
    "pairs = form_pairs(prices)\n",
    "\n",
    "# Step 4: Implement the trading strategy\n",
    "def trade_pairs(data, pairs, formation_period=252, trading_period=126, z_threshold=2):\n",
    "    returns = data.pct_change().dropna()\n",
    "    cumulative_returns = (returns + 1).cumprod()\n",
    "    results = []\n",
    "\n",
    "    for i, j in pairs:\n",
    "        spread = cumulative_returns.iloc[-trading_period:, i] - cumulative_returns.iloc[-trading_period:, j]\n",
    "        mean_spread = spread.mean()\n",
    "        std_spread = spread.std()\n",
    "        long_entry = spread < mean_spread - z_threshold * std_spread\n",
    "        short_entry = spread > mean_spread + z_threshold * std_spread\n",
    "        long_exit = spread > mean_spread\n",
    "        short_exit = spread < mean_spread\n",
    "        \n",
    "        num_positions = long_entry.sum() + short_entry.sum()\n",
    "        num_converged = (long_entry & long_exit).sum() + (short_entry & short_exit).sum()\n",
    "        \n",
    "        results.append((i, j, num_positions, num_converged))\n",
    "\n",
    "    return results\n",
    "\n",
    "trading_results = trade_pairs(prices, pairs)\n",
    "\n",
    "# Step 5: Calculate excess returns\n",
    "# This is a basic version and needs further implementation based on the given methodology. This step largely depends on your desired metrics and interpretations.\n",
    "\n",
    "print(trading_results)\n",
    "\n"
   ]
  },
  {
   "cell_type": "markdown",
   "metadata": {},
   "source": [
    "#### Data Cleaning\n",
    "Present any steps or transformations you undertake to clean or preprocess the data. This might include handling missing data, outliers, or converting data to a format suitable for backtesting."
   ]
  },
  {
   "cell_type": "markdown",
   "metadata": {},
   "source": [
    "## Strategy Construction"
   ]
  },
  {
   "cell_type": "markdown",
   "metadata": {},
   "source": [
    "#### Pseudocode\n",
    "Provide a high-level pseudocode or step-by-step approach to the strategy's logic. This helps in understanding and then coding the strategy."
   ]
  },
  {
   "cell_type": "markdown",
   "metadata": {},
   "source": [
    "#### Strategy Implementation\n",
    "The actual Python code that constructs the strategy. This might involve defining trading signals, calculating indicators, or any other computation that forms the strategy's logic."
   ]
  },
  {
   "cell_type": "markdown",
   "metadata": {},
   "source": [
    "## Backtesting"
   ]
  },
  {
   "cell_type": "markdown",
   "metadata": {},
   "source": [
    "#### Setting Parameters\n",
    "Define any parameters for backtesting - like initial capital, transaction costs, etc."
   ]
  },
  {
   "cell_type": "markdown",
   "metadata": {},
   "source": [
    "#### Running the Backtest\n",
    "Show the code for running the backtest. This might involve looping through the data and applying the strategy logic to make buy/sell decisions."
   ]
  },
  {
   "cell_type": "markdown",
   "metadata": {},
   "source": [
    "#### Metrics & Results\n",
    "Present key performance metrics: \n",
    "- Total Return\n",
    "- Annualized Return\n",
    "- Maximum Drawdown\n",
    "- Sharpe Ratio, etc."
   ]
  },
  {
   "cell_type": "markdown",
   "metadata": {},
   "source": [
    "## Visualization"
   ]
  },
  {
   "cell_type": "markdown",
   "metadata": {},
   "source": [
    "Provide visual representations:\n",
    "- Cumulative returns over time.\n",
    "- Drawdowns.\n",
    "- Maybe a comparison with benchmark returns.\n",
    "- Histogram of returns, etc."
   ]
  },
  {
   "cell_type": "markdown",
   "metadata": {},
   "source": [
    "## Conclusion"
   ]
  },
  {
   "cell_type": "markdown",
   "metadata": {},
   "source": [
    "Summarize the findings:\n",
    "- Did the strategy perform well?\n",
    "- How did it compare to a benchmark or to expectations set out in the academic paper?\n",
    "- Potential improvements or modifications."
   ]
  },
  {
   "cell_type": "markdown",
   "metadata": {},
   "source": [
    "## References"
   ]
  },
  {
   "cell_type": "markdown",
   "metadata": {},
   "source": [
    "- List the academic papers, books, or any other resources referred to in the notebook."
   ]
  }
 ],
 "metadata": {
  "kernelspec": {
   "display_name": "base",
   "language": "python",
   "name": "python3"
  },
  "language_info": {
   "codemirror_mode": {
    "name": "ipython",
    "version": 3
   },
   "file_extension": ".py",
   "mimetype": "text/x-python",
   "name": "python",
   "nbconvert_exporter": "python",
   "pygments_lexer": "ipython3",
   "version": "3.8.8"
  },
  "orig_nbformat": 4
 },
 "nbformat": 4,
 "nbformat_minor": 2
}
